{
 "cells": [
  {
   "cell_type": "code",
   "execution_count": 7,
   "metadata": {},
   "outputs": [
    {
     "name": "stdout",
     "output_type": "stream",
     "text": [
      "The sql extension is already loaded. To reload it, use:\n",
      "  %reload_ext sql\n"
     ]
    }
   ],
   "source": [
    "%load_ext sql\n",
    "%sql sqlite:///exoplanets.db"
   ]
  },
  {
   "cell_type": "code",
   "execution_count": 14,
   "metadata": {},
   "outputs": [
    {
     "data": {
      "text/html": [
       "<span style=\"None\">Running query in &#x27;sqlite:///exoplanets.db&#x27;</span>"
      ],
      "text/plain": [
       "Running query in 'sqlite:///exoplanets.db'"
      ]
     },
     "metadata": {},
     "output_type": "display_data"
    },
    {
     "data": {
      "text/html": [
       "<table>\n",
       "    <thead>\n",
       "        <tr>\n",
       "            <th>name</th>\n",
       "            <th>host_star_name</th>\n",
       "            <th>distance_from_earth</th>\n",
       "            <th>discovery_year</th>\n",
       "            <th>orbital_period</th>\n",
       "            <th>planet_radius</th>\n",
       "            <th>mass</th>\n",
       "        </tr>\n",
       "    </thead>\n",
       "    <tbody>\n",
       "        <tr>\n",
       "            <td>Neptune2566</td>\n",
       "            <td>Ari245</td>\n",
       "            <td>2849.961534911281</td>\n",
       "            <td>2004</td>\n",
       "            <td>6.298629760931302</td>\n",
       "            <td>1.1323162105204216</td>\n",
       "            <td>7.336557474612545</td>\n",
       "        </tr>\n",
       "        <tr>\n",
       "            <td>Thoth6170</td>\n",
       "            <td>CMi633</td>\n",
       "            <td>319.454352659713</td>\n",
       "            <td>2005</td>\n",
       "            <td>9.589108135306933</td>\n",
       "            <td>0.6534906856000442</td>\n",
       "            <td>1.008488241972552</td>\n",
       "        </tr>\n",
       "        <tr>\n",
       "            <td>Hera7727</td>\n",
       "            <td>Cep599</td>\n",
       "            <td>3439.586226640813</td>\n",
       "            <td>2024</td>\n",
       "            <td>1.8857420359676897</td>\n",
       "            <td>1.7277730732591385</td>\n",
       "            <td>6.644460722829988</td>\n",
       "        </tr>\n",
       "        <tr>\n",
       "            <td>Vulcan8495</td>\n",
       "            <td>Proxima</td>\n",
       "            <td>1443.4280156719967</td>\n",
       "            <td>2021</td>\n",
       "            <td>7.10924115679507</td>\n",
       "            <td>1.1895778704049238</td>\n",
       "            <td>0.19694685684707813</td>\n",
       "        </tr>\n",
       "        <tr>\n",
       "            <td>Anubis8427</td>\n",
       "            <td>Boötes S</td>\n",
       "            <td>886.8860440663435</td>\n",
       "            <td>2013</td>\n",
       "            <td>9.049062386396065</td>\n",
       "            <td>0.8635553160708163</td>\n",
       "            <td>8.153570339218946</td>\n",
       "        </tr>\n",
       "        <tr>\n",
       "            <td>Apollo5018</td>\n",
       "            <td>Arcturus</td>\n",
       "            <td>306.81062249983887</td>\n",
       "            <td>2012</td>\n",
       "            <td>6.879811739743709</td>\n",
       "            <td>1.0381036679520066</td>\n",
       "            <td>1.5240602718095149</td>\n",
       "        </tr>\n",
       "        <tr>\n",
       "            <td>Loki7214</td>\n",
       "            <td>Proxima</td>\n",
       "            <td>4943.549998113555</td>\n",
       "            <td>2022</td>\n",
       "            <td>5.243436708991347</td>\n",
       "            <td>1.2903553874754674</td>\n",
       "            <td>7.908906508506446</td>\n",
       "        </tr>\n",
       "        <tr>\n",
       "            <td>Diana7793</td>\n",
       "            <td>Antares</td>\n",
       "            <td>145.40667115160855</td>\n",
       "            <td>2012</td>\n",
       "            <td>8.816541144331131</td>\n",
       "            <td>0.9144614546914837</td>\n",
       "            <td>0.1822218048736874</td>\n",
       "        </tr>\n",
       "        <tr>\n",
       "            <td>Hephaestus8747</td>\n",
       "            <td>Cas908</td>\n",
       "            <td>855.1443932251931</td>\n",
       "            <td>2017</td>\n",
       "            <td>7.154207597052867</td>\n",
       "            <td>1.1702094970889472</td>\n",
       "            <td>6.911940291664152</td>\n",
       "        </tr>\n",
       "        <tr>\n",
       "            <td>Apollo5517</td>\n",
       "            <td>Auriga C</td>\n",
       "            <td>1557.0274738689775</td>\n",
       "            <td>2019</td>\n",
       "            <td>2.1454595757508055</td>\n",
       "            <td>1.703984295191579</td>\n",
       "            <td>2.838773067277538</td>\n",
       "        </tr>\n",
       "    </tbody>\n",
       "</table>\n",
       "<span style=\"font-style:italic;text-align:center;\">Truncated to <a href=\"https://jupysql.ploomber.io/en/latest/api/configuration.html#displaylimit\">displaylimit</a> of 10.</span>"
      ],
      "text/plain": [
       "+----------------+----------------+---------------------+----------------+--------------------+--------------------+---------------------+\n",
       "|      name      | host_star_name | distance_from_earth | discovery_year |   orbital_period   |   planet_radius    |         mass        |\n",
       "+----------------+----------------+---------------------+----------------+--------------------+--------------------+---------------------+\n",
       "|  Neptune2566   |     Ari245     |  2849.961534911281  |      2004      | 6.298629760931302  | 1.1323162105204216 |  7.336557474612545  |\n",
       "|   Thoth6170    |     CMi633     |   319.454352659713  |      2005      | 9.589108135306933  | 0.6534906856000442 |  1.008488241972552  |\n",
       "|    Hera7727    |     Cep599     |  3439.586226640813  |      2024      | 1.8857420359676897 | 1.7277730732591385 |  6.644460722829988  |\n",
       "|   Vulcan8495   |    Proxima     |  1443.4280156719967 |      2021      |  7.10924115679507  | 1.1895778704049238 | 0.19694685684707813 |\n",
       "|   Anubis8427   |    Boötes S    |  886.8860440663435  |      2013      | 9.049062386396065  | 0.8635553160708163 |  8.153570339218946  |\n",
       "|   Apollo5018   |    Arcturus    |  306.81062249983887 |      2012      | 6.879811739743709  | 1.0381036679520066 |  1.5240602718095149 |\n",
       "|    Loki7214    |    Proxima     |  4943.549998113555  |      2022      | 5.243436708991347  | 1.2903553874754674 |  7.908906508506446  |\n",
       "|   Diana7793    |    Antares     |  145.40667115160855 |      2012      | 8.816541144331131  | 0.9144614546914837 |  0.1822218048736874 |\n",
       "| Hephaestus8747 |     Cas908     |  855.1443932251931  |      2017      | 7.154207597052867  | 1.1702094970889472 |  6.911940291664152  |\n",
       "|   Apollo5517   |    Auriga C    |  1557.0274738689775 |      2019      | 2.1454595757508055 | 1.703984295191579  |  2.838773067277538  |\n",
       "+----------------+----------------+---------------------+----------------+--------------------+--------------------+---------------------+\n",
       "Truncated to displaylimit of 10."
      ]
     },
     "execution_count": 14,
     "metadata": {},
     "output_type": "execute_result"
    }
   ],
   "source": [
    "%sql SELECT * FROM exoplanets WHERE orbital_period < 10 AND mass < 10;"
   ]
  }
 ],
 "metadata": {
  "kernelspec": {
   "display_name": "Python 3",
   "language": "python",
   "name": "python3"
  },
  "language_info": {
   "codemirror_mode": {
    "name": "ipython",
    "version": 3
   },
   "file_extension": ".py",
   "mimetype": "text/x-python",
   "name": "python",
   "nbconvert_exporter": "python",
   "pygments_lexer": "ipython3",
   "version": "3.12.0"
  }
 },
 "nbformat": 4,
 "nbformat_minor": 2
}
